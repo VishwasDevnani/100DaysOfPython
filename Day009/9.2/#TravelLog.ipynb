{
 "cells": [
  {
   "cell_type": "markdown",
   "metadata": {},
   "source": [
    "# Nesting"
   ]
  },
  {
   "cell_type": "code",
   "execution_count": null,
   "metadata": {},
   "outputs": [],
   "source": [
    " capitals = {\n",
    "  \"France\": \"Paris\",\n",
    "  \"Germany\": \"Berlin\",\n",
    "}\n",
    "\n",
    "\n",
    "\n",
    "\n",
    "\n",
    "\n",
    "travel_log = [\n",
    "{\n",
    "  \"country\": \"France\", \n",
    "  \"cities_visited\": [\"Paris\", \"Lille\", \"Dijon\"], \n",
    "  \"total_visits\": 12,\n",
    "},\n",
    "{\n",
    "  \"country\": \"Germany\",\n",
    "  \"cities_visited\": [\"Berlin\", \"Hamburg\", \"Stuttgart\"],\n",
    "  \"total_visits\": 5,\n",
    "},\n",
    "]"
   ]
  },
  {
   "cell_type": "markdown",
   "metadata": {},
   "source": [
    "# Nesting a List in a Dictionary"
   ]
  },
  {
   "cell_type": "code",
   "execution_count": null,
   "metadata": {},
   "outputs": [],
   "source": [
    "travel_log = {\n",
    "  \"France\": [\"Paris\", \"Lille\", \"Dijon\"],\n",
    "  \"Germany\": [\"Berlin\", \"Hamburg\", \"Stuttgart\"],\n",
    "}\n"
   ]
  },
  {
   "cell_type": "markdown",
   "metadata": {},
   "source": [
    "# Nesting Dictionary in a Dictionary"
   ]
  },
  {
   "cell_type": "code",
   "execution_count": null,
   "metadata": {},
   "outputs": [],
   "source": [
    "travel_log = {\n",
    "  \"France\": {\"cities_visited\": [\"Paris\", \"Lille\", \"Dijon\"], \"total_visits\": 12},\n",
    "  \"Germany\": {\"cities_visited\": [\"Berlin\", \"Hamburg\", \"Stuttgart\"], \"total_visits\": 5},\n",
    "}\n"
   ]
  },
  {
   "cell_type": "code",
   "execution_count": null,
   "metadata": {},
   "outputs": [],
   "source": [
    "# Nesting Dictionaries in Lists\n"
   ]
  }
 ],
 "metadata": {
  "kernelspec": {
   "display_name": "Python 3",
   "language": "python",
   "name": "python3"
  },
  "language_info": {
   "codemirror_mode": {
    "name": "ipython",
    "version": 3
   },
   "file_extension": ".py",
   "mimetype": "text/x-python",
   "name": "python",
   "nbconvert_exporter": "python",
   "pygments_lexer": "ipython3",
   "version": "3.8.3"
  }
 },
 "nbformat": 4,
 "nbformat_minor": 4
}
