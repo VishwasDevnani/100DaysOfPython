{
 "cells": [
  {
   "cell_type": "code",
   "execution_count": 2,
   "metadata": {
    "scrolled": true
   },
   "outputs": [
    {
     "name": "stdout",
     "output_type": "stream",
     "text": [
      "\n",
      "                         ___________\n",
      "                         \\         /\n",
      "                          )_______(\n",
      "                          |\"\"\"\"\"\"\"|_.-._,.---------.,_.-._\n",
      "                          |       | | |               | | ''-.\n",
      "                          |       |_| |_             _| |_..-'\n",
      "                          |_______| '-' `'---------'` '-'\n",
      "                          )\"\"\"\"\"\"\"(\n",
      "                         /_________\\\n",
      "                       .-------------.\n",
      "                      /_______________\\\n",
      "\n",
      "Congrats!!!\n",
      "The highest bidder is govind,\n",
      "and he/she bid 200$\n"
     ]
    }
   ],
   "source": [
    "from art import logo\n",
    "from IPython.display import clear_output\n",
    "\n",
    "loop =True\n",
    "bids = {}\n",
    "highest_bid = 0\n",
    "bidder_name = None\n",
    "\n",
    "\n",
    "while loop:\n",
    "    clear_output()\n",
    "    print(logo)\n",
    "    name = input(\"What is your name?\\n\")\n",
    "    bids[name] = input(\"what is your bid?\\n\")\n",
    "    y_n = input(\"Is there anyone else who wants to have a bid? \\nType y for yes and n for no\\n\").lower()\n",
    "    if int(bids[name]) > highest_bid:\n",
    "        highest_bid = int(bids[name])\n",
    "        bidder_name = name\n",
    "    if y_n == \"n\":\n",
    "        loop = False\n",
    "clear_output()\n",
    "print(logo)\n",
    "print(f\"Congrats!!!\\nThe highest bidder is {bidder_name},\\nand he/she bid {highest_bid}$\")"
   ]
  },
  {
   "cell_type": "code",
   "execution_count": null,
   "metadata": {},
   "outputs": [],
   "source": []
  }
 ],
 "metadata": {
  "kernelspec": {
   "display_name": "Python 3",
   "language": "python",
   "name": "python3"
  },
  "language_info": {
   "codemirror_mode": {
    "name": "ipython",
    "version": 3
   },
   "file_extension": ".py",
   "mimetype": "text/x-python",
   "name": "python",
   "nbconvert_exporter": "python",
   "pygments_lexer": "ipython3",
   "version": "3.8.3"
  }
 },
 "nbformat": 4,
 "nbformat_minor": 4
}
