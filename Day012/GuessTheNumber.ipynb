{
 "cells": [
  {
   "cell_type": "code",
   "execution_count": 11,
   "metadata": {},
   "outputs": [
    {
     "name": "stdout",
     "output_type": "stream",
     "text": [
      "43\n",
      "You won\n",
      "guessed numbers : [50, 60, 40, 45, 43]\n"
     ]
    }
   ],
   "source": [
    "too_high = \"\"\"\n",
    ".___________.  ______     ______       __    __   __    _______  __    __  \n",
    "|           | /  __  \\   /  __  \\     |  |  |  | |  |  /  _____||  |  |  | \n",
    "`---|  |----`|  |  |  | |  |  |  |    |  |__|  | |  | |  |  __  |  |__|  | \n",
    "    |  |     |  |  |  | |  |  |  |    |   __   | |  | |  | |_ | |   __   | \n",
    "    |  |     |  `--'  | |  `--'  |    |  |  |  | |  | |  |__| | |  |  |  | \n",
    "    |__|      \\______/   \\______/     |__|  |__| |__|  \\______| |__|  |__| \n",
    "                                                                           \"\"\"\n",
    "\n",
    "too_low = \"\"\"\n",
    ".___________.  ______     ______       __        ______   ____    __    ____ \n",
    "|           | /  __  \\   /  __  \\     |  |      /  __  \\  \\   \\  /  \\  /   / \n",
    "`---|  |----`|  |  |  | |  |  |  |    |  |     |  |  |  |  \\   \\/    \\/   /  \n",
    "    |  |     |  |  |  | |  |  |  |    |  |     |  |  |  |   \\            /   \n",
    "    |  |     |  `--'  | |  `--'  |    |  `----.|  `--'  |    \\    /\\    /    \n",
    "    |__|      \\______/   \\______/     |_______| \\______/      \\__/  \\__/     \n",
    "                                                                             \n",
    "\"\"\"\n",
    "you_won = \"\"\"\n",
    "____    ____  __    ______ .___________.  ______   .______     ____    ____ \n",
    "\\   \\  /   / |  |  /      ||           | /  __  \\  |   _  \\    \\   \\  /   / \n",
    " \\   \\/   /  |  | |  ,----'`---|  |----`|  |  |  | |  |_)  |    \\   \\/   /  \n",
    "  \\      /   |  | |  |         |  |     |  |  |  | |      /      \\_    _/   \n",
    "   \\    /    |  | |  `----.    |  |     |  `--'  | |  |\\  \\----.   |  |     \n",
    "    \\__/     |__|  \\______|    |__|      \\______/  | _| `._____|   |__|     \n",
    "                                                                            \n",
    "\"\"\"\n",
    "\n",
    "import random\n",
    "from IPython.display import clear_output\n",
    "def genrate_number():\n",
    "    return random.randint(1,101)\n",
    "def game():\n",
    "    print(\"Hey, Welcome to the Number Guessing Game!!\")\n",
    "    print(\"I'm thinking of guessing a number between 1 to 100\")\n",
    "    difficulty = input(\"choose a difficulty.Type 'easy' or 'hard' \")\n",
    "    \n",
    "    \n",
    "    chances =  10 if difficulty == 'easy' else 5\n",
    "    number = genrate_number()\n",
    "    guess=0\n",
    "    guessed_numbers = []\n",
    "    while chances != 0 :\n",
    "        print()\n",
    "        print(f\"guessed numbers : {guessed_numbers}\")\n",
    "        print(f\"You've {chances} attemps remaining to guess the number!!\")\n",
    "        guess = int(input(\"Make a guess: \"))\n",
    "        guessed_numbers.append(guess)\n",
    "        clear_output()\n",
    "        if number > guess:\n",
    "            print(too_low)\n",
    "        elif number < guess:\n",
    "            print(too_high)\n",
    "        elif number == guess:\n",
    "            print(guess)\n",
    "            print(you_won)\n",
    "            break\n",
    "        else:\n",
    "            pass\n",
    "        chances -=1\n",
    "        if chances == 0:\n",
    "            print(\"You lost\")\n",
    "    print(f\"guessed numbers : {guessed_numbers}\")        \n",
    "game()"
   ]
  },
  {
   "cell_type": "code",
   "execution_count": null,
   "metadata": {},
   "outputs": [],
   "source": []
  }
 ],
 "metadata": {
  "kernelspec": {
   "display_name": "Python 3",
   "language": "python",
   "name": "python3"
  },
  "language_info": {
   "codemirror_mode": {
    "name": "ipython",
    "version": 3
   },
   "file_extension": ".py",
   "mimetype": "text/x-python",
   "name": "python",
   "nbconvert_exporter": "python",
   "pygments_lexer": "ipython3",
   "version": "3.8.3"
  }
 },
 "nbformat": 4,
 "nbformat_minor": 4
}
