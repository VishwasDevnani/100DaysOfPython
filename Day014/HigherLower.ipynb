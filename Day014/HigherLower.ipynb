{
 "cells": [
  {
   "cell_type": "code",
   "execution_count": 1,
   "metadata": {},
   "outputs": [],
   "source": [
    "from data import data"
   ]
  },
  {
   "cell_type": "code",
   "execution_count": 2,
   "metadata": {},
   "outputs": [
    {
     "name": "stdout",
     "output_type": "stream",
     "text": [
      "\u001b[93mHello World !\u001b[0m\n"
     ]
    }
   ],
   "source": [
    "class color:\n",
    "    import random\n",
    "    PURPLE = '\\033[95m'\n",
    "    CYAN = '\\033[96m'\n",
    "    DARKCYAN = '\\033[36m'\n",
    "    BLUE = '\\033[94m'\n",
    "    GREEN = '\\033[92m'\n",
    "    YELLOW = '\\033[93m'\n",
    "    RED = '\\033[91m'\n",
    "    BOLD = '\\033[1m'\n",
    "    UNDERLINE = '\\033[4m'\n",
    "    END = '\\033[0m'\n",
    "    options = [PURPLE,CYAN,DARKCYAN,BLUE,GREEN,YELLOW,RED,UNDERLINE]\n",
    "    choice = random.choice(options)\n",
    "print(color.choice + 'Hello World !' + color.END)"
   ]
  },
  {
   "cell_type": "code",
   "execution_count": 12,
   "metadata": {},
   "outputs": [
    {
     "name": "stdout",
     "output_type": "stream",
     "text": [
      "\u001b[1mSCORE = 2\u001b[0m\n",
      " _  __        _            ____                           \n",
      "| |/ /  __ _ | |_  _   _  |  _ \\   ___  _ __  _ __  _   _ \n",
      "| ' /  / _` || __|| | | | | |_) | / _ \\| '__|| '__|| | | |\n",
      "| . \\ | (_| || |_ | |_| | |  __/ |  __/| |   | |   | |_| |\n",
      "|_|\\_\\ \\__,_| \\__| \\__, | |_|     \\___||_|   |_|    \\__, |\n",
      "                   |___/                            |___/ \n",
      "\n",
      "\u001b[93m\u001b[1mKaty Perry is a Musician from the United States\u001b[0m\u001b[0m\n",
      "\n",
      "__     __    __ ____  \n",
      "\\ \\   / /   / // ___| \n",
      " \\ \\ / /   / / \\___ \\ \n",
      "  \\ V /   / /   ___) |\n",
      "   \\_/   /_/   |____/ \n",
      "                      \n",
      "\n",
      "\n",
      " _  __                  _         _  _       _                                 \n",
      "| |/ /  ___  _ __    __| |  __ _ | || |     | |  ___  _ __   _ __    ___  _ __ \n",
      "| ' /  / _ \\| '_ \\  / _` | / _` || || |  _  | | / _ \\| '_ \\ | '_ \\  / _ \\| '__|\n",
      "| . \\ |  __/| | | || (_| || (_| || || | | |_| ||  __/| | | || | | ||  __/| |   \n",
      "|_|\\_\\ \\___||_| |_| \\__,_| \\__,_||_||_|  \\___/  \\___||_| |_||_| |_| \\___||_|   \n",
      "                                                                               \n",
      "\n",
      "\u001b[93m\u001b[1mKendall Jenner is a Reality TV personality and Model from the United States\u001b[0m\u001b[0m\n",
      "who do you think has more followers, Type 1 or 2\n",
      "1\n"
     ]
    },
    {
     "data": {
      "text/plain": [
       "2"
      ]
     },
     "execution_count": 12,
     "metadata": {},
     "output_type": "execute_result"
    }
   ],
   "source": [
    "from random import randint\n",
    "from IPython.display import clear_output\n",
    "from art import *\n",
    "\n",
    "def higher_lower(score=0, rand1 = None , rand2 = None):\n",
    "    print(color.BOLD + f\"SCORE = {score}\" + color.END)\n",
    "    \n",
    "    name1 = data[rand1][\"name\"]\n",
    "    description1 = data[rand1][\"description\"]\n",
    "    country1 = data[rand1][\"country\"]\n",
    "    count1 =data[rand1][\"follower_count\"] \n",
    "    \n",
    "    name2 = data[rand2][\"name\"]\n",
    "    description2 = data[rand2][\"description\"]\n",
    "    country2 = data[rand2][\"country\"]\n",
    "    count2 = data[rand2][\"follower_count\"] \n",
    "    \n",
    "    tprint(name1)\n",
    "    print(color.choice + color.BOLD + f\"{name1} is a {description1} from the {country1}\" + color.END + color.END)\n",
    "    print()\n",
    "    tprint(\"V/S\")\n",
    "    print()\n",
    "    tprint(name2)\n",
    "    print(color.choice + color.BOLD + f\"{name2} is a {description2} from the {country2}\" + color.END + color.END)\n",
    "    ans = \"1\" if count1 >= count2 else \"2\"\n",
    "    rand = rand1 if count1 > count2 else rand2\n",
    "    check = input(\"who do you think has more followers, Type 1 or 2\\n\")\n",
    "    if ans == check:\n",
    "        score += 1\n",
    "        clear_output()\n",
    "        if score < len(data) - 2:\n",
    "            return higher_lower( score, rand1 = rand , rand2 = randint(0,len(data)-1) )\n",
    "        else:\n",
    "            return \"You Won\"\n",
    "    else:\n",
    "        return score\n",
    "higher_lower(score=0,rand1 = randint(0,len(data)-1) , rand2= randint(0,len(data)-1) )"
   ]
  },
  {
   "cell_type": "code",
   "execution_count": null,
   "metadata": {},
   "outputs": [],
   "source": []
  },
  {
   "cell_type": "code",
   "execution_count": null,
   "metadata": {},
   "outputs": [],
   "source": []
  },
  {
   "cell_type": "code",
   "execution_count": null,
   "metadata": {},
   "outputs": [],
   "source": []
  },
  {
   "cell_type": "code",
   "execution_count": null,
   "metadata": {},
   "outputs": [],
   "source": []
  }
 ],
 "metadata": {
  "kernelspec": {
   "display_name": "Python 3",
   "language": "python",
   "name": "python3"
  },
  "language_info": {
   "codemirror_mode": {
    "name": "ipython",
    "version": 3
   },
   "file_extension": ".py",
   "mimetype": "text/x-python",
   "name": "python",
   "nbconvert_exporter": "python",
   "pygments_lexer": "ipython3",
   "version": "3.8.3"
  }
 },
 "nbformat": 4,
 "nbformat_minor": 4
}
